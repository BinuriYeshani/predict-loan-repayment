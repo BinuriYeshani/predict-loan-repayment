{
 "cells": [
  {
   "cell_type": "code",
   "execution_count": 16,
   "metadata": {
    "scrolled": true
   },
   "outputs": [],
   "source": [
    "import pandas as pd\n",
    "import numpy as np\n",
    "import matplotlib.pyplot as plt\n",
    "%matplotlib inline\n",
    "import seaborn as sns\n",
    "sns.set(style=\"darkgrid\")\n",
    "import seaborn as sns\n",
    "\n",
    "from scipy.stats import norm\n",
    "from sklearn.ensemble import RandomForestClassifier\n",
    "from sklearn.preprocessing import OneHotEncoder, LabelEncoder, StandardScaler\n",
    "from sklearn.metrics import roc_curve, auc\n",
    "from sklearn.model_selection import StratifiedKFold\n",
    "from sklearn.model_selection import train_test_split\n",
    "from sklearn.model_selection import KFold\n",
    "from sklearn.model_selection import cross_val_score\n",
    "from sklearn.metrics import classification_report\n",
    "from sklearn.metrics import confusion_matrix\n",
    "from sklearn.metrics import accuracy_score\n",
    "from sklearn.metrics import precision_score\n",
    "from sklearn.metrics import recall_score\n",
    "from sklearn.pipeline import Pipeline\n",
    "from sklearn.linear_model import LogisticRegression\n",
    "from sklearn.tree import DecisionTreeClassifier\n",
    "from sklearn.neighbors import KNeighborsClassifier\n",
    "from sklearn.naive_bayes import GaussianNB\n",
    "from sklearn.svm import SVC\n",
    "# from sklearn.impute import Imputer\n",
    "from sklearn.decomposition import PCA\n",
    "from sklearn.feature_selection import SelectFromModel\n",
    "from sklearn.linear_model import LogisticRegression\n",
    "from sklearn.metrics import roc_curve\n",
    "from sklearn.metrics import roc_auc_score\n",
    "from matplotlib import pyplot\n",
    "from sklearn.metrics import precision_recall_curve\n",
    "from sklearn.metrics import f1_score\n",
    "from sklearn.metrics import auc\n",
    "from sklearn.metrics import average_precision_score"
   ]
  },
  {
   "cell_type": "code",
   "execution_count": 2,
   "metadata": {},
   "outputs": [
    {
     "name": "stdout",
     "output_type": "stream",
     "text": [
      "(307511, 122)\n",
      "(1716428, 17)\n"
     ]
    }
   ],
   "source": [
    "###load application training data set\n",
    "df_application_train = pd.read_csv(\"data/application_train.csv\")\n",
    "df_bureau = pd.read_csv(\"data/bureau.csv\")\n",
    "\n",
    "df_frames = [df_application_train, df_bureau]\n",
    "\n",
    "# print(df_application_train.sample(5))\n",
    "print(df_application_train.shape)\n",
    "# print(df_application_train.info())\n",
    "\n",
    "# print(df_bureau.sample(5))\n",
    "print(df_bureau.shape)\n",
    "# print(df_bureau.info())"
   ]
  },
  {
   "cell_type": "code",
   "execution_count": 3,
   "metadata": {
    "scrolled": false
   },
   "outputs": [
    {
     "name": "stdout",
     "output_type": "stream",
     "text": [
      "SK_ID_CURR column missing values: 0\n",
      "TARGET column missing values: 0\n",
      "NAME_CONTRACT_TYPE column missing values: 0\n",
      "CODE_GENDER column missing values: 0\n",
      "FLAG_OWN_CAR column missing values: 0\n",
      "FLAG_OWN_REALTY column missing values: 0\n",
      "CNT_CHILDREN column missing values: 0\n",
      "AMT_INCOME_TOTAL column missing values: 0\n",
      "AMT_CREDIT column missing values: 0\n",
      "AMT_ANNUITY column missing values: 12\n",
      "AMT_GOODS_PRICE column missing values: 278\n",
      "NAME_TYPE_SUITE column missing values: 1292\n",
      "NAME_INCOME_TYPE column missing values: 0\n",
      "NAME_EDUCATION_TYPE column missing values: 0\n",
      "NAME_FAMILY_STATUS column missing values: 0\n",
      "NAME_HOUSING_TYPE column missing values: 0\n",
      "REGION_POPULATION_RELATIVE column missing values: 0\n",
      "DAYS_BIRTH column missing values: 0\n",
      "DAYS_EMPLOYED column missing values: 0\n",
      "DAYS_REGISTRATION column missing values: 0\n",
      "DAYS_ID_PUBLISH column missing values: 0\n",
      "OWN_CAR_AGE column missing values: 202929\n",
      "FLAG_MOBIL column missing values: 0\n",
      "FLAG_EMP_PHONE column missing values: 0\n",
      "FLAG_WORK_PHONE column missing values: 0\n",
      "FLAG_CONT_MOBILE column missing values: 0\n",
      "FLAG_PHONE column missing values: 0\n",
      "FLAG_EMAIL column missing values: 0\n",
      "OCCUPATION_TYPE column missing values: 96391\n",
      "CNT_FAM_MEMBERS column missing values: 2\n",
      "REGION_RATING_CLIENT column missing values: 0\n",
      "REGION_RATING_CLIENT_W_CITY column missing values: 0\n",
      "WEEKDAY_APPR_PROCESS_START column missing values: 0\n",
      "HOUR_APPR_PROCESS_START column missing values: 0\n",
      "REG_REGION_NOT_LIVE_REGION column missing values: 0\n",
      "REG_REGION_NOT_WORK_REGION column missing values: 0\n",
      "LIVE_REGION_NOT_WORK_REGION column missing values: 0\n",
      "REG_CITY_NOT_LIVE_CITY column missing values: 0\n",
      "REG_CITY_NOT_WORK_CITY column missing values: 0\n",
      "LIVE_CITY_NOT_WORK_CITY column missing values: 0\n",
      "ORGANIZATION_TYPE column missing values: 0\n",
      "EXT_SOURCE_1 column missing values: 173378\n",
      "EXT_SOURCE_2 column missing values: 660\n",
      "EXT_SOURCE_3 column missing values: 60965\n",
      "APARTMENTS_AVG column missing values: 156061\n",
      "BASEMENTAREA_AVG column missing values: 179943\n",
      "YEARS_BEGINEXPLUATATION_AVG column missing values: 150007\n",
      "YEARS_BUILD_AVG column missing values: 204488\n",
      "COMMONAREA_AVG column missing values: 214865\n",
      "ELEVATORS_AVG column missing values: 163891\n",
      "ENTRANCES_AVG column missing values: 154828\n",
      "FLOORSMAX_AVG column missing values: 153020\n",
      "FLOORSMIN_AVG column missing values: 208642\n",
      "LANDAREA_AVG column missing values: 182590\n",
      "LIVINGAPARTMENTS_AVG column missing values: 210199\n",
      "LIVINGAREA_AVG column missing values: 154350\n",
      "NONLIVINGAPARTMENTS_AVG column missing values: 213514\n",
      "NONLIVINGAREA_AVG column missing values: 169682\n",
      "APARTMENTS_MODE column missing values: 156061\n",
      "BASEMENTAREA_MODE column missing values: 179943\n",
      "YEARS_BEGINEXPLUATATION_MODE column missing values: 150007\n",
      "YEARS_BUILD_MODE column missing values: 204488\n",
      "COMMONAREA_MODE column missing values: 214865\n",
      "ELEVATORS_MODE column missing values: 163891\n",
      "ENTRANCES_MODE column missing values: 154828\n",
      "FLOORSMAX_MODE column missing values: 153020\n",
      "FLOORSMIN_MODE column missing values: 208642\n",
      "LANDAREA_MODE column missing values: 182590\n",
      "LIVINGAPARTMENTS_MODE column missing values: 210199\n",
      "LIVINGAREA_MODE column missing values: 154350\n",
      "NONLIVINGAPARTMENTS_MODE column missing values: 213514\n",
      "NONLIVINGAREA_MODE column missing values: 169682\n",
      "APARTMENTS_MEDI column missing values: 156061\n",
      "BASEMENTAREA_MEDI column missing values: 179943\n",
      "YEARS_BEGINEXPLUATATION_MEDI column missing values: 150007\n",
      "YEARS_BUILD_MEDI column missing values: 204488\n",
      "COMMONAREA_MEDI column missing values: 214865\n",
      "ELEVATORS_MEDI column missing values: 163891\n",
      "ENTRANCES_MEDI column missing values: 154828\n",
      "FLOORSMAX_MEDI column missing values: 153020\n",
      "FLOORSMIN_MEDI column missing values: 208642\n",
      "LANDAREA_MEDI column missing values: 182590\n",
      "LIVINGAPARTMENTS_MEDI column missing values: 210199\n",
      "LIVINGAREA_MEDI column missing values: 154350\n",
      "NONLIVINGAPARTMENTS_MEDI column missing values: 213514\n",
      "NONLIVINGAREA_MEDI column missing values: 169682\n",
      "FONDKAPREMONT_MODE column missing values: 210295\n",
      "HOUSETYPE_MODE column missing values: 154297\n",
      "TOTALAREA_MODE column missing values: 148431\n",
      "WALLSMATERIAL_MODE column missing values: 156341\n",
      "EMERGENCYSTATE_MODE column missing values: 145755\n",
      "OBS_30_CNT_SOCIAL_CIRCLE column missing values: 1021\n",
      "DEF_30_CNT_SOCIAL_CIRCLE column missing values: 1021\n",
      "OBS_60_CNT_SOCIAL_CIRCLE column missing values: 1021\n",
      "DEF_60_CNT_SOCIAL_CIRCLE column missing values: 1021\n",
      "DAYS_LAST_PHONE_CHANGE column missing values: 1\n",
      "FLAG_DOCUMENT_2 column missing values: 0\n",
      "FLAG_DOCUMENT_3 column missing values: 0\n",
      "FLAG_DOCUMENT_4 column missing values: 0\n",
      "FLAG_DOCUMENT_5 column missing values: 0\n",
      "FLAG_DOCUMENT_6 column missing values: 0\n",
      "FLAG_DOCUMENT_7 column missing values: 0\n",
      "FLAG_DOCUMENT_8 column missing values: 0\n",
      "FLAG_DOCUMENT_9 column missing values: 0\n",
      "FLAG_DOCUMENT_10 column missing values: 0\n",
      "FLAG_DOCUMENT_11 column missing values: 0\n",
      "FLAG_DOCUMENT_12 column missing values: 0\n",
      "FLAG_DOCUMENT_13 column missing values: 0\n",
      "FLAG_DOCUMENT_14 column missing values: 0\n",
      "FLAG_DOCUMENT_15 column missing values: 0\n",
      "FLAG_DOCUMENT_16 column missing values: 0\n",
      "FLAG_DOCUMENT_17 column missing values: 0\n",
      "FLAG_DOCUMENT_18 column missing values: 0\n",
      "FLAG_DOCUMENT_19 column missing values: 0\n",
      "FLAG_DOCUMENT_20 column missing values: 0\n",
      "FLAG_DOCUMENT_21 column missing values: 0\n",
      "AMT_REQ_CREDIT_BUREAU_HOUR column missing values: 41519\n",
      "AMT_REQ_CREDIT_BUREAU_DAY column missing values: 41519\n",
      "AMT_REQ_CREDIT_BUREAU_WEEK column missing values: 41519\n",
      "AMT_REQ_CREDIT_BUREAU_MON column missing values: 41519\n",
      "AMT_REQ_CREDIT_BUREAU_QRT column missing values: 41519\n",
      "AMT_REQ_CREDIT_BUREAU_YEAR column missing values: 41519\n",
      "\n",
      "\n",
      "SK_ID_CURR column missing values: 0\n",
      "SK_ID_BUREAU column missing values: 0\n",
      "CREDIT_ACTIVE column missing values: 0\n",
      "CREDIT_CURRENCY column missing values: 0\n",
      "DAYS_CREDIT column missing values: 0\n",
      "CREDIT_DAY_OVERDUE column missing values: 0\n",
      "DAYS_CREDIT_ENDDATE column missing values: 105553\n",
      "DAYS_ENDDATE_FACT column missing values: 633653\n",
      "AMT_CREDIT_MAX_OVERDUE column missing values: 1124488\n",
      "CNT_CREDIT_PROLONG column missing values: 0\n",
      "AMT_CREDIT_SUM column missing values: 13\n",
      "AMT_CREDIT_SUM_DEBT column missing values: 257669\n",
      "AMT_CREDIT_SUM_LIMIT column missing values: 591780\n",
      "AMT_CREDIT_SUM_OVERDUE column missing values: 0\n",
      "CREDIT_TYPE column missing values: 0\n",
      "DAYS_CREDIT_UPDATE column missing values: 0\n",
      "AMT_ANNUITY column missing values: 1226791\n",
      "\n",
      "\n"
     ]
    }
   ],
   "source": [
    "def display_missing(df):    \n",
    "    for col in df.columns.tolist():          \n",
    "        print('{} column missing values: {}'.format(col, df[col].isnull().sum()))\n",
    "    print('\\n')\n",
    "    \n",
    "for df in df_frames:\n",
    "    #print('{}'.format(df))\n",
    "    display_missing(df)\n",
    "    "
   ]
  },
  {
   "cell_type": "code",
   "execution_count": 4,
   "metadata": {},
   "outputs": [
    {
     "name": "stdout",
     "output_type": "stream",
     "text": [
      "NAME_CONTRACT_TYPE\n",
      "CODE_GENDER\n",
      "FLAG_OWN_CAR\n",
      "FLAG_OWN_REALTY\n",
      "NAME_TYPE_SUITE\n",
      "NAME_INCOME_TYPE\n",
      "NAME_EDUCATION_TYPE\n",
      "NAME_FAMILY_STATUS\n",
      "NAME_HOUSING_TYPE\n",
      "OCCUPATION_TYPE\n",
      "WEEKDAY_APPR_PROCESS_START\n",
      "ORGANIZATION_TYPE\n",
      "FONDKAPREMONT_MODE\n",
      "HOUSETYPE_MODE\n",
      "WALLSMATERIAL_MODE\n",
      "EMERGENCYSTATE_MODE\n",
      "train data shape (307511, 122)\n",
      "bureau data shape (39666, 17)\n"
     ]
    }
   ],
   "source": [
    "threshold = 0.75\n",
    "# #Dropping columns with missing value rate higher than threshold\n",
    "df_application_train = df_application_train[df_application_train.columns[df_application_train.isnull().mean() < threshold]]\n",
    "\n",
    "\n",
    "# #Dropping rows with missing value rate higher than threshold\n",
    "df_application_train = df_application_train.loc[df_application_train.isnull().mean(axis=1) < threshold]\n",
    "# print(df_application_train)\n",
    "\n",
    "\n",
    "df_bureau = df_bureau.loc[df_bureau.isnull().mean(axis=1) <threshold]\n",
    "#print(df_bureau)\n",
    "\n",
    "#Filling missing values with mode of the columns\n",
    "df_application_train = df_application_train.fillna(df_application_train.median())\n",
    "\n",
    "\n",
    "###### categorical data#########\n",
    "categorical_feature_mask = df_application_train.dtypes==object\n",
    "categorical_cols = df_application_train.columns[categorical_feature_mask].tolist()\n",
    "\n",
    "for col in categorical_cols:\n",
    "    print(col)\n",
    "    df_application_train[col].fillna(df_application_train[col].value_counts().idxmax(), inplace=True)\n",
    "print(\"train data shape\",df_application_train.shape)\n",
    "\n",
    "\n",
    "df_bureau = df_bureau.dropna()\n",
    "print(\"bureau data shape\",df_bureau.shape)\n",
    "\n",
    "\n"
   ]
  },
  {
   "cell_type": "code",
   "execution_count": 5,
   "metadata": {},
   "outputs": [
    {
     "name": "stdout",
     "output_type": "stream",
     "text": [
      "SK_ID_CURR column missing values: 0\n",
      "TARGET column missing values: 0\n",
      "NAME_CONTRACT_TYPE column missing values: 0\n",
      "CODE_GENDER column missing values: 0\n",
      "FLAG_OWN_CAR column missing values: 0\n",
      "FLAG_OWN_REALTY column missing values: 0\n",
      "CNT_CHILDREN column missing values: 0\n",
      "AMT_INCOME_TOTAL column missing values: 0\n",
      "AMT_CREDIT column missing values: 0\n",
      "AMT_ANNUITY column missing values: 0\n",
      "AMT_GOODS_PRICE column missing values: 0\n",
      "NAME_TYPE_SUITE column missing values: 0\n",
      "NAME_INCOME_TYPE column missing values: 0\n",
      "NAME_EDUCATION_TYPE column missing values: 0\n",
      "NAME_FAMILY_STATUS column missing values: 0\n",
      "NAME_HOUSING_TYPE column missing values: 0\n",
      "REGION_POPULATION_RELATIVE column missing values: 0\n",
      "DAYS_BIRTH column missing values: 0\n",
      "DAYS_EMPLOYED column missing values: 0\n",
      "DAYS_REGISTRATION column missing values: 0\n",
      "DAYS_ID_PUBLISH column missing values: 0\n",
      "OWN_CAR_AGE column missing values: 0\n",
      "FLAG_MOBIL column missing values: 0\n",
      "FLAG_EMP_PHONE column missing values: 0\n",
      "FLAG_WORK_PHONE column missing values: 0\n",
      "FLAG_CONT_MOBILE column missing values: 0\n",
      "FLAG_PHONE column missing values: 0\n",
      "FLAG_EMAIL column missing values: 0\n",
      "OCCUPATION_TYPE column missing values: 0\n",
      "CNT_FAM_MEMBERS column missing values: 0\n",
      "REGION_RATING_CLIENT column missing values: 0\n",
      "REGION_RATING_CLIENT_W_CITY column missing values: 0\n",
      "WEEKDAY_APPR_PROCESS_START column missing values: 0\n",
      "HOUR_APPR_PROCESS_START column missing values: 0\n",
      "REG_REGION_NOT_LIVE_REGION column missing values: 0\n",
      "REG_REGION_NOT_WORK_REGION column missing values: 0\n",
      "LIVE_REGION_NOT_WORK_REGION column missing values: 0\n",
      "REG_CITY_NOT_LIVE_CITY column missing values: 0\n",
      "REG_CITY_NOT_WORK_CITY column missing values: 0\n",
      "LIVE_CITY_NOT_WORK_CITY column missing values: 0\n",
      "ORGANIZATION_TYPE column missing values: 0\n",
      "EXT_SOURCE_1 column missing values: 0\n",
      "EXT_SOURCE_2 column missing values: 0\n",
      "EXT_SOURCE_3 column missing values: 0\n",
      "APARTMENTS_AVG column missing values: 0\n",
      "BASEMENTAREA_AVG column missing values: 0\n",
      "YEARS_BEGINEXPLUATATION_AVG column missing values: 0\n",
      "YEARS_BUILD_AVG column missing values: 0\n",
      "COMMONAREA_AVG column missing values: 0\n",
      "ELEVATORS_AVG column missing values: 0\n",
      "ENTRANCES_AVG column missing values: 0\n",
      "FLOORSMAX_AVG column missing values: 0\n",
      "FLOORSMIN_AVG column missing values: 0\n",
      "LANDAREA_AVG column missing values: 0\n",
      "LIVINGAPARTMENTS_AVG column missing values: 0\n",
      "LIVINGAREA_AVG column missing values: 0\n",
      "NONLIVINGAPARTMENTS_AVG column missing values: 0\n",
      "NONLIVINGAREA_AVG column missing values: 0\n",
      "APARTMENTS_MODE column missing values: 0\n",
      "BASEMENTAREA_MODE column missing values: 0\n",
      "YEARS_BEGINEXPLUATATION_MODE column missing values: 0\n",
      "YEARS_BUILD_MODE column missing values: 0\n",
      "COMMONAREA_MODE column missing values: 0\n",
      "ELEVATORS_MODE column missing values: 0\n",
      "ENTRANCES_MODE column missing values: 0\n",
      "FLOORSMAX_MODE column missing values: 0\n",
      "FLOORSMIN_MODE column missing values: 0\n",
      "LANDAREA_MODE column missing values: 0\n",
      "LIVINGAPARTMENTS_MODE column missing values: 0\n",
      "LIVINGAREA_MODE column missing values: 0\n",
      "NONLIVINGAPARTMENTS_MODE column missing values: 0\n",
      "NONLIVINGAREA_MODE column missing values: 0\n",
      "APARTMENTS_MEDI column missing values: 0\n",
      "BASEMENTAREA_MEDI column missing values: 0\n",
      "YEARS_BEGINEXPLUATATION_MEDI column missing values: 0\n",
      "YEARS_BUILD_MEDI column missing values: 0\n",
      "COMMONAREA_MEDI column missing values: 0\n",
      "ELEVATORS_MEDI column missing values: 0\n",
      "ENTRANCES_MEDI column missing values: 0\n",
      "FLOORSMAX_MEDI column missing values: 0\n",
      "FLOORSMIN_MEDI column missing values: 0\n",
      "LANDAREA_MEDI column missing values: 0\n",
      "LIVINGAPARTMENTS_MEDI column missing values: 0\n",
      "LIVINGAREA_MEDI column missing values: 0\n",
      "NONLIVINGAPARTMENTS_MEDI column missing values: 0\n",
      "NONLIVINGAREA_MEDI column missing values: 0\n",
      "FONDKAPREMONT_MODE column missing values: 0\n",
      "HOUSETYPE_MODE column missing values: 0\n",
      "TOTALAREA_MODE column missing values: 0\n",
      "WALLSMATERIAL_MODE column missing values: 0\n",
      "EMERGENCYSTATE_MODE column missing values: 0\n",
      "OBS_30_CNT_SOCIAL_CIRCLE column missing values: 0\n",
      "DEF_30_CNT_SOCIAL_CIRCLE column missing values: 0\n",
      "OBS_60_CNT_SOCIAL_CIRCLE column missing values: 0\n",
      "DEF_60_CNT_SOCIAL_CIRCLE column missing values: 0\n",
      "DAYS_LAST_PHONE_CHANGE column missing values: 0\n",
      "FLAG_DOCUMENT_2 column missing values: 0\n",
      "FLAG_DOCUMENT_3 column missing values: 0\n",
      "FLAG_DOCUMENT_4 column missing values: 0\n",
      "FLAG_DOCUMENT_5 column missing values: 0\n",
      "FLAG_DOCUMENT_6 column missing values: 0\n",
      "FLAG_DOCUMENT_7 column missing values: 0\n",
      "FLAG_DOCUMENT_8 column missing values: 0\n",
      "FLAG_DOCUMENT_9 column missing values: 0\n",
      "FLAG_DOCUMENT_10 column missing values: 0\n",
      "FLAG_DOCUMENT_11 column missing values: 0\n",
      "FLAG_DOCUMENT_12 column missing values: 0\n",
      "FLAG_DOCUMENT_13 column missing values: 0\n",
      "FLAG_DOCUMENT_14 column missing values: 0\n",
      "FLAG_DOCUMENT_15 column missing values: 0\n",
      "FLAG_DOCUMENT_16 column missing values: 0\n",
      "FLAG_DOCUMENT_17 column missing values: 0\n",
      "FLAG_DOCUMENT_18 column missing values: 0\n",
      "FLAG_DOCUMENT_19 column missing values: 0\n",
      "FLAG_DOCUMENT_20 column missing values: 0\n",
      "FLAG_DOCUMENT_21 column missing values: 0\n",
      "AMT_REQ_CREDIT_BUREAU_HOUR column missing values: 0\n",
      "AMT_REQ_CREDIT_BUREAU_DAY column missing values: 0\n",
      "AMT_REQ_CREDIT_BUREAU_WEEK column missing values: 0\n",
      "AMT_REQ_CREDIT_BUREAU_MON column missing values: 0\n",
      "AMT_REQ_CREDIT_BUREAU_QRT column missing values: 0\n",
      "AMT_REQ_CREDIT_BUREAU_YEAR column missing values: 0\n",
      "\n",
      "\n",
      "SK_ID_CURR column missing values: 0\n",
      "SK_ID_BUREAU column missing values: 0\n",
      "CREDIT_ACTIVE column missing values: 0\n",
      "CREDIT_CURRENCY column missing values: 0\n",
      "DAYS_CREDIT column missing values: 0\n",
      "CREDIT_DAY_OVERDUE column missing values: 0\n",
      "DAYS_CREDIT_ENDDATE column missing values: 0\n",
      "DAYS_ENDDATE_FACT column missing values: 0\n",
      "AMT_CREDIT_MAX_OVERDUE column missing values: 0\n",
      "CNT_CREDIT_PROLONG column missing values: 0\n",
      "AMT_CREDIT_SUM column missing values: 0\n",
      "AMT_CREDIT_SUM_DEBT column missing values: 0\n",
      "AMT_CREDIT_SUM_LIMIT column missing values: 0\n",
      "AMT_CREDIT_SUM_OVERDUE column missing values: 0\n",
      "CREDIT_TYPE column missing values: 0\n",
      "DAYS_CREDIT_UPDATE column missing values: 0\n",
      "AMT_ANNUITY column missing values: 0\n",
      "\n",
      "\n"
     ]
    }
   ],
   "source": [
    "def display_missing(df):    \n",
    "    for col in df.columns.tolist():          \n",
    "        print('{} column missing values: {}'.format(col, df[col].isnull().sum()))\n",
    "    print('\\n')\n",
    "\n",
    "display_missing(df_application_train)\n",
    "display_missing(df_bureau)\n",
    "\n"
   ]
  },
  {
   "cell_type": "code",
   "execution_count": 6,
   "metadata": {
    "scrolled": true
   },
   "outputs": [
    {
     "name": "stdout",
     "output_type": "stream",
     "text": [
      "after joining application table and bureau table the combined table shape: (307511, 150)\n",
      "        SK_ID_CURR  TARGET NAME_CONTRACT_TYPE CODE_GENDER FLAG_OWN_CAR  \\\n",
      "268798      411500       0    Revolving loans           M            Y   \n",
      "254725      394755       0         Cash loans           M            N   \n",
      "137954      259987       0         Cash loans           F            Y   \n",
      "205590      338310       0         Cash loans           F            Y   \n",
      "136002      257751       0         Cash loans           F            N   \n",
      "\n",
      "       FLAG_OWN_REALTY  CNT_CHILDREN  AMT_INCOME_TOTAL  AMT_CREDIT  \\\n",
      "268798               Y             0          360000.0    540000.0   \n",
      "254725               Y             0          135000.0    405000.0   \n",
      "137954               Y             0           54000.0     71955.0   \n",
      "205590               Y             0          180000.0    508495.5   \n",
      "136002               Y             0          202500.0   1288350.0   \n",
      "\n",
      "        AMT_ANNUITY  ...  BUREAU_CREDIT_CURRENCY_currency 4  \\\n",
      "268798      27000.0  ...                                0.0   \n",
      "254725      29470.5  ...                                0.0   \n",
      "137954       7245.0  ...                                0.0   \n",
      "205590      20164.5  ...                                0.0   \n",
      "136002      37800.0  ...                                0.0   \n",
      "\n",
      "       BUREAU_CREDIT_TYPE_Another type of loan BUREAU_CREDIT_TYPE_Car loan  \\\n",
      "268798                                     0.0                         0.0   \n",
      "254725                                     0.0                         0.0   \n",
      "137954                                     0.0                         0.0   \n",
      "205590                                     0.0                         0.0   \n",
      "136002                                     0.0                         0.0   \n",
      "\n",
      "       BUREAU_CREDIT_TYPE_Consumer credit BUREAU_CREDIT_TYPE_Credit card  \\\n",
      "268798                                0.0                            0.0   \n",
      "254725                                0.0                            0.0   \n",
      "137954                                0.0                            0.0   \n",
      "205590                                0.0                            0.0   \n",
      "136002                                0.0                            0.0   \n",
      "\n",
      "       BUREAU_CREDIT_TYPE_Loan for business development  \\\n",
      "268798                                              0.0   \n",
      "254725                                              0.0   \n",
      "137954                                              0.0   \n",
      "205590                                              0.0   \n",
      "136002                                              0.0   \n",
      "\n",
      "        BUREAU_CREDIT_TYPE_Loan for working capital replenishment  \\\n",
      "268798                                                0.0           \n",
      "254725                                                0.0           \n",
      "137954                                                0.0           \n",
      "205590                                                0.0           \n",
      "136002                                                0.0           \n",
      "\n",
      "        BUREAU_CREDIT_TYPE_Microloan  BUREAU_CREDIT_TYPE_Mortgage  \\\n",
      "268798                           0.0                          0.0   \n",
      "254725                           0.0                          0.0   \n",
      "137954                           0.0                          0.0   \n",
      "205590                           0.0                          0.0   \n",
      "136002                           0.0                          0.0   \n",
      "\n",
      "        BUREAU_CREDIT_TYPE_Unknown type of loan  \n",
      "268798                                      0.0  \n",
      "254725                                      0.0  \n",
      "137954                                      0.0  \n",
      "205590                                      0.0  \n",
      "136002                                      0.0  \n",
      "\n",
      "[5 rows x 150 columns]\n"
     ]
    }
   ],
   "source": [
    "########################### joining appication train bureau table ###############\n",
    "\n",
    "# Combining numerical features\n",
    "grp = df_bureau.drop(['SK_ID_BUREAU'], axis = 1).groupby(by=['SK_ID_CURR']).mean().reset_index()\n",
    "grp.columns = ['BUREAU_'+column if column !='SK_ID_CURR' else column for column in grp.columns]\n",
    "df_application_bureau = df_application_train.merge(grp, on='SK_ID_CURR', how='left')\n",
    "df_application_bureau.update(df_application_bureau[grp.columns].fillna(0))\n",
    "\n",
    "###Combining categorical features\n",
    "df_bureau_categorical = pd.get_dummies(df_bureau.select_dtypes('object'))\n",
    "df_bureau_categorical['SK_ID_CURR'] = df_bureau['SK_ID_CURR']\n",
    "grp = df_bureau_categorical.groupby(by = ['SK_ID_CURR']).mean().reset_index()\n",
    "grp.columns = ['BUREAU_'+column if column !='SK_ID_CURR' else column for column in grp.columns]\n",
    "df_application_bureau = df_application_bureau.merge(grp, on='SK_ID_CURR', how='left')\n",
    "df_application_bureau.update(df_application_bureau[grp.columns].fillna(0))\n",
    "\n",
    "####Shape of application and bureau data combined\n",
    "print('after joining application table and bureau table the combined table shape:',df_application_bureau.shape)\n",
    "print(df_application_bureau.sample(5))"
   ]
  },
  {
   "cell_type": "code",
   "execution_count": 7,
   "metadata": {},
   "outputs": [
    {
     "name": "stdout",
     "output_type": "stream",
     "text": [
      "['NAME_CONTRACT_TYPE', 'CODE_GENDER', 'FLAG_OWN_CAR', 'FLAG_OWN_REALTY', 'NAME_TYPE_SUITE', 'NAME_INCOME_TYPE', 'NAME_EDUCATION_TYPE', 'NAME_FAMILY_STATUS', 'NAME_HOUSING_TYPE', 'OCCUPATION_TYPE', 'WEEKDAY_APPR_PROCESS_START', 'ORGANIZATION_TYPE', 'FONDKAPREMONT_MODE', 'HOUSETYPE_MODE', 'WALLSMATERIAL_MODE', 'EMERGENCYSTATE_MODE']\n",
      "(307511, 150)\n",
      "        SK_ID_CURR  TARGET  NAME_CONTRACT_TYPE  CODE_GENDER  FLAG_OWN_CAR  \\\n",
      "262603      404043       0                   0            1             1   \n",
      "197562      329056       0                   1            1             1   \n",
      "67944       178791       0                   0            1             0   \n",
      "215492      349690       0                   0            0             1   \n",
      "230732      367254       0                   0            0             1   \n",
      "\n",
      "        FLAG_OWN_REALTY  CNT_CHILDREN  AMT_INCOME_TOTAL  AMT_CREDIT  \\\n",
      "262603                1             0          315000.0   1030680.0   \n",
      "197562                0             0          288000.0    180000.0   \n",
      "67944                 1             0          202500.0    765000.0   \n",
      "215492                1             0          292500.0   1256400.0   \n",
      "230732                0             0          112500.0    360000.0   \n",
      "\n",
      "        AMT_ANNUITY  ...  BUREAU_CREDIT_CURRENCY_currency 4  \\\n",
      "262603      65997.0  ...                                0.0   \n",
      "197562       9000.0  ...                                0.0   \n",
      "67944       36931.5  ...                                0.0   \n",
      "215492      36864.0  ...                                0.0   \n",
      "230732      10912.5  ...                                0.0   \n",
      "\n",
      "        BUREAU_CREDIT_TYPE_Another type of loan  BUREAU_CREDIT_TYPE_Car loan  \\\n",
      "262603                                      0.0                          0.0   \n",
      "197562                                      0.0                          0.0   \n",
      "67944                                       0.0                          0.0   \n",
      "215492                                      0.0                          0.0   \n",
      "230732                                      0.0                          0.0   \n",
      "\n",
      "        BUREAU_CREDIT_TYPE_Consumer credit  BUREAU_CREDIT_TYPE_Credit card  \\\n",
      "262603                                 0.0                             0.0   \n",
      "197562                                 0.0                             0.0   \n",
      "67944                                  0.0                             0.0   \n",
      "215492                                 0.0                             0.0   \n",
      "230732                                 1.0                             0.0   \n",
      "\n",
      "        BUREAU_CREDIT_TYPE_Loan for business development  \\\n",
      "262603                                               0.0   \n",
      "197562                                               0.0   \n",
      "67944                                                0.0   \n",
      "215492                                               0.0   \n",
      "230732                                               0.0   \n",
      "\n",
      "        BUREAU_CREDIT_TYPE_Loan for working capital replenishment  \\\n",
      "262603                                                0.0           \n",
      "197562                                                0.0           \n",
      "67944                                                 0.0           \n",
      "215492                                                0.0           \n",
      "230732                                                0.0           \n",
      "\n",
      "        BUREAU_CREDIT_TYPE_Microloan  BUREAU_CREDIT_TYPE_Mortgage  \\\n",
      "262603                           0.0                          0.0   \n",
      "197562                           0.0                          0.0   \n",
      "67944                            0.0                          0.0   \n",
      "215492                           0.0                          0.0   \n",
      "230732                           0.0                          0.0   \n",
      "\n",
      "        BUREAU_CREDIT_TYPE_Unknown type of loan  \n",
      "262603                                      0.0  \n",
      "197562                                      0.0  \n",
      "67944                                       0.0  \n",
      "215492                                      0.0  \n",
      "230732                                      0.0  \n",
      "\n",
      "[5 rows x 150 columns]\n"
     ]
    }
   ],
   "source": [
    "################ data encoding ####################\n",
    "\n",
    "categorical_feature_mask = df_application_bureau.dtypes==object\n",
    "# filter categorical columns using mask and turn it into a list\n",
    "non_numeric_features = df_application_bureau.columns[categorical_feature_mask].tolist()\n",
    "print(non_numeric_features)\n",
    "\n",
    "le = LabelEncoder()\n",
    "df_application_bureau[non_numeric_features] = df_application_bureau[non_numeric_features].apply(lambda col: le.fit_transform(col))\n",
    "print(df_application_bureau.shape)\n",
    "print(df_application_bureau.sample(5))\n"
   ]
  },
  {
   "cell_type": "code",
   "execution_count": 8,
   "metadata": {},
   "outputs": [
    {
     "name": "stdout",
     "output_type": "stream",
     "text": [
      "(307511, 150)\n"
     ]
    }
   ],
   "source": [
    "\n",
    "###################### normalization of data\n",
    "from sklearn.preprocessing import MinMaxScaler\n",
    "scaler = MinMaxScaler(feature_range = (0, 1))\n",
    "\n",
    "scaler.fit(df_application_bureau)\n",
    "df_application_bureau_norm = scaler.transform(df_application_bureau)\n",
    "print(df_application_bureau_norm.shape)\n",
    "\n"
   ]
  },
  {
   "cell_type": "code",
   "execution_count": 9,
   "metadata": {},
   "outputs": [
    {
     "data": {
      "image/png": "[encoded data removed]",
      "text/plain": [
       "<Figure size 432x288 with 1 Axes>"
      ]
     },
     "metadata": {
      "needs_background": "light"
     },
     "output_type": "display_data"
    }
   ],
   "source": [
    "##################### dimension reduction ################### \n",
    "\n",
    "############ number of pca component analysis ###############\n",
    "\n",
    "\n",
    "scaler = MinMaxScaler(feature_range=[0, 1])\n",
    "\n",
    "######## pca anaylsis for joined table ###########\n",
    "data_rescaled = scaler.fit_transform(df_application_bureau)\n",
    "\n",
    "\n",
    "#Fitting the PCA algorithm with our Data\n",
    "pca = PCA().fit(data_rescaled)\n",
    "#Plotting the Cumulative Summation of the Explained Variance\n",
    "plt.figure()\n",
    "plt.plot(np.cumsum(pca.explained_variance_ratio_))\n",
    "plt.xlabel('Number of Components')\n",
    "plt.ylabel('Variance (%)') #for each component\n",
    "plt.title('joined application and bureau tables Dataset Explained Variance')\n",
    "plt.show()"
   ]
  },
  {
   "cell_type": "code",
   "execution_count": 10,
   "metadata": {},
   "outputs": [
    {
     "name": "stdout",
     "output_type": "stream",
     "text": [
      "(307511, 60)\n",
      "[[-2.62536127e+05  6.15561459e+04 -7.03719402e+04 ... -1.09826241e-01\n",
      "  -3.27110312e-01 -3.28480560e-02]\n",
      " [ 9.17644577e+05  2.58408855e+04 -4.62993139e+04 ...  8.47437289e-03\n",
      "  -4.78187440e-03  6.15370738e-02]\n",
      " [-6.19992881e+05 -4.51215487e+04 -7.79317897e+04 ...  1.55775060e-01\n",
      "  -1.18383384e-02 -1.42448327e-01]\n",
      " ...\n",
      " [ 8.91214678e+04 -2.02874391e+04 -7.04148608e+04 ... -2.99820115e-01\n",
      "  -9.23097468e-02 -2.94074843e-01]\n",
      " [-3.14120713e+05  3.22138596e+04 -7.23808522e+04 ...  2.05957593e-01\n",
      "   2.49391511e-02  1.59668611e-01]\n",
      " [ 1.48383497e+05 -2.08791001e+04 -6.24148680e+04 ... -3.60424358e-01\n",
      "  -1.46919710e-03  8.03102340e-02]]\n"
     ]
    }
   ],
   "source": [
    "############ Make a pipeline with pca\n",
    "\n",
    "from sklearn.decomposition import PCA\n",
    "# pca = PCA(n_components=50 , random_state=420)\n",
    "pca = PCA(n_components=60 , random_state=420)\n",
    "\n",
    "df_application_bureau_pca = pca.fit_transform(df_application_bureau)\n",
    "\n",
    "print(df_application_bureau_pca.shape)\n",
    "print(df_application_bureau_pca)"
   ]
  },
  {
   "cell_type": "code",
   "execution_count": 11,
   "metadata": {},
   "outputs": [],
   "source": [
    "################## x _train , y_train , x_test #################\n",
    "\n",
    "df =  pd.DataFrame(df_application_bureau_pca)\n",
    "# print(df)\n",
    "# y = df[df.columns[0],df.columns[1]]\n",
    "X = df.drop([df.columns[0], df.columns[1]] ,  axis='columns')\n",
    "\n",
    "\n",
    "df = df_application_bureau\n",
    "y = df.iloc[: , [1]]\n",
    "# X = df.drop([df.columns[0], df.columns[1]] ,  axis='columns')\n",
    "\n",
    "\n",
    "from sklearn.model_selection import StratifiedKFold\n",
    "skf = StratifiedKFold(n_splits=2)\n",
    "skf.get_n_splits(X, y)\n",
    "X_train, X_test, y_train, y_test = train_test_split(X, y,test_size=0.2,random_state=1)\n",
    "\n",
    "# print(X_train.shape)\n",
    "# print(y_train.shape)\n",
    "# print(y_train)\n",
    "# print(X_train)\n",
    "# print(X_test.shape)\n",
    "# print(y_test.shape)\n",
    "\n"
   ]
  },
  {
   "cell_type": "code",
   "execution_count": 18,
   "metadata": {
    "scrolled": false
   },
   "outputs": [
    {
     "name": "stderr",
     "output_type": "stream",
     "text": [
      "C:\\Users\\binuri\\Anaconda3\\lib\\site-packages\\ipykernel_launcher.py:6: DataConversionWarning: A column-vector y was passed when a 1d array was expected. Please change the shape of y to (n_samples, ), for example using ravel().\n",
      "  \n"
     ]
    },
    {
     "name": "stdout",
     "output_type": "stream",
     "text": [
      "k value = 1\n",
      "confusion matrix\n",
      "[[52089  4444]\n",
      " [ 4455   515]]\n"
     ]
    },
    {
     "data": {
      "image/png": "[encoded data removed]",
      "text/plain": [
       "<Figure size 432x288 with 1 Axes>"
      ]
     },
     "metadata": {},
     "output_type": "display_data"
    },
    {
     "name": "stderr",
     "output_type": "stream",
     "text": [
      "C:\\Users\\binuri\\Anaconda3\\lib\\site-packages\\ipykernel_launcher.py:6: DataConversionWarning: A column-vector y was passed when a 1d array was expected. Please change the shape of y to (n_samples, ), for example using ravel().\n",
      "  \n"
     ]
    },
    {
     "name": "stdout",
     "output_type": "stream",
     "text": [
      "k value = 2\n",
      "confusion matrix\n",
      "[[56106   427]\n",
      " [ 4906    64]]\n"
     ]
    },
    {
     "data": {
      "image/png": "[encoded data removed]",
      "text/plain": [
       "<Figure size 432x288 with 1 Axes>"
      ]
     },
     "metadata": {},
     "output_type": "display_data"
    },
    {
     "name": "stderr",
     "output_type": "stream",
     "text": [
      "C:\\Users\\binuri\\Anaconda3\\lib\\site-packages\\ipykernel_launcher.py:6: DataConversionWarning: A column-vector y was passed when a 1d array was expected. Please change the shape of y to (n_samples, ), for example using ravel().\n",
      "  \n"
     ]
    },
    {
     "name": "stdout",
     "output_type": "stream",
     "text": [
      "k value = 3\n",
      "confusion matrix\n",
      "[[55340  1193]\n",
      " [ 4798   172]]\n"
     ]
    },
    {
     "data": {
      "image/png": "[encoded data removed]",
      "text/plain": [
       "<Figure size 432x288 with 1 Axes>"
      ]
     },
     "metadata": {},
     "output_type": "display_data"
    },
    {
     "name": "stderr",
     "output_type": "stream",
     "text": [
      "C:\\Users\\binuri\\Anaconda3\\lib\\site-packages\\ipykernel_launcher.py:6: DataConversionWarning: A column-vector y was passed when a 1d array was expected. Please change the shape of y to (n_samples, ), for example using ravel().\n",
      "  \n"
     ]
    },
    {
     "name": "stdout",
     "output_type": "stream",
     "text": [
      "k value = 4\n",
      "confusion matrix\n",
      "[[56342   191]\n",
      " [ 4933    37]]\n"
     ]
    },
    {
     "data": {
      "image/png": "[encoded data removed]",
      "text/plain": [
       "<Figure size 432x288 with 1 Axes>"
      ]
     },
     "metadata": {},
     "output_type": "display_data"
    },
    {
     "name": "stderr",
     "output_type": "stream",
     "text": [
      "C:\\Users\\binuri\\Anaconda3\\lib\\site-packages\\ipykernel_launcher.py:6: DataConversionWarning: A column-vector y was passed when a 1d array was expected. Please change the shape of y to (n_samples, ), for example using ravel().\n",
      "  \n"
     ]
    },
    {
     "name": "stdout",
     "output_type": "stream",
     "text": [
      "k value = 5\n",
      "confusion matrix\n",
      "[[56110   423]\n",
      " [ 4896    74]]\n"
     ]
    },
    {
     "data": {
      "image/png": "[encoded data removed]",
      "text/plain": [
       "<Figure size 432x288 with 1 Axes>"
      ]
     },
     "metadata": {},
     "output_type": "display_data"
    },
    {
     "name": "stderr",
     "output_type": "stream",
     "text": [
      "C:\\Users\\binuri\\Anaconda3\\lib\\site-packages\\ipykernel_launcher.py:6: DataConversionWarning: A column-vector y was passed when a 1d array was expected. Please change the shape of y to (n_samples, ), for example using ravel().\n",
      "  \n"
     ]
    },
    {
     "name": "stdout",
     "output_type": "stream",
     "text": [
      "k value = 6\n",
      "confusion matrix\n",
      "[[56466    67]\n",
      " [ 4956    14]]\n"
     ]
    },
    {
     "data": {
      "image/png": "[encoded data removed]",
      "text/plain": [
       "<Figure size 432x288 with 1 Axes>"
      ]
     },
     "metadata": {},
     "output_type": "display_data"
    },
    {
     "name": "stderr",
     "output_type": "stream",
     "text": [
      "C:\\Users\\binuri\\Anaconda3\\lib\\site-packages\\ipykernel_launcher.py:6: DataConversionWarning: A column-vector y was passed when a 1d array was expected. Please change the shape of y to (n_samples, ), for example using ravel().\n",
      "  \n"
     ]
    },
    {
     "name": "stdout",
     "output_type": "stream",
     "text": [
      "k value = 7\n",
      "confusion matrix\n",
      "[[56393   140]\n",
      " [ 4939    31]]\n"
     ]
    },
    {
     "data": {
      "image/png": "[encoded data removed]",
      "text/plain": [
       "<Figure size 432x288 with 1 Axes>"
      ]
     },
     "metadata": {},
     "output_type": "display_data"
    },
    {
     "name": "stderr",
     "output_type": "stream",
     "text": [
      "C:\\Users\\binuri\\Anaconda3\\lib\\site-packages\\ipykernel_launcher.py:6: DataConversionWarning: A column-vector y was passed when a 1d array was expected. Please change the shape of y to (n_samples, ), for example using ravel().\n",
      "  \n"
     ]
    },
    {
     "name": "stdout",
     "output_type": "stream",
     "text": [
      "k value = 8\n",
      "confusion matrix\n",
      "[[56499    34]\n",
      " [ 4959    11]]\n"
     ]
    },
    {
     "data": {
      "image/png": "[encoded data removed]",
      "text/plain": [
       "<Figure size 432x288 with 1 Axes>"
      ]
     },
     "metadata": {},
     "output_type": "display_data"
    },
    {
     "name": "stderr",
     "output_type": "stream",
     "text": [
      "C:\\Users\\binuri\\Anaconda3\\lib\\site-packages\\ipykernel_launcher.py:6: DataConversionWarning: A column-vector y was passed when a 1d array was expected. Please change the shape of y to (n_samples, ), for example using ravel().\n",
      "  \n"
     ]
    },
    {
     "name": "stdout",
     "output_type": "stream",
     "text": [
      "k value = 9\n",
      "confusion matrix\n",
      "[[56471    62]\n",
      " [ 4954    16]]\n"
     ]
    },
    {
     "data": {
      "image/png": "[encoded data removed]",
      "text/plain": [
       "<Figure size 432x288 with 1 Axes>"
      ]
     },
     "metadata": {},
     "output_type": "display_data"
    }
   ],
   "source": [
    "# #################### kNN model for various k values #############\n",
    "\n",
    "k_range = range(1, 10)\n",
    "for k in k_range:\n",
    "    knn = KNeighborsClassifier(n_neighbors=k)\n",
    "    knn.fit(X_train, y_train)\n",
    "    y_pred = knn.predict(X_test)\n",
    "    print(\"k value =\" ,k)\n",
    "    \n",
    "    print(\"confusion matrix\")\n",
    "    print(confusion_matrix(y_test,y_pred))\n",
    "    \n",
    "\n",
    "    \n",
    "#     probs = knn.predict_proba(X_test)\n",
    "#     probs = probs[:, 1]  \n",
    "#     # calculate AUC\n",
    "#     auc = roc_auc_score(y_test, probs)\n",
    "#     print('AUC: %.3f' % auc)\n",
    "#     # calculate roc curve\n",
    "#     fpr, tpr, thresholds = roc_curve(y_test, probs)\n",
    "#     # plot no skill\n",
    "#     pyplot.plot([0, 1], [0, 1], linestyle='--')\n",
    "#     # plot the roc curve for the model\n",
    "#     pyplot.plot(fpr, tpr, marker='.')\n",
    "#     # show the plot\n",
    "#     pyplot.show()\n",
    "\n",
    "\n",
    "\n",
    "    ####predict probabilities\n",
    "    probs = knn.predict_proba(X_test)\n",
    "    probs = probs[:, 1]\n",
    "    \n",
    "    # calculate precision-recall curve\n",
    "    precision, recall, thresholds = precision_recall_curve(y_test, probs)\n",
    "    # calculate F1 score\n",
    "    f1 = f1_score(y_test, y_pred)\n",
    "    # calculate precision-recall AUC\n",
    "#     auc = auc(recall, precision)\n",
    "    # calculate average precision score\n",
    "    ap = average_precision_score(y_test, probs)\n",
    "#     print('f1=%.3f auc=%.3f ap=%.3f' % (f1, auc, ap))\n",
    "    # plot no skill\n",
    "    pyplot.plot([0, 1], [0.1, 0.1], linestyle='--')\n",
    "    # plot the precision-recall curve for the model\n",
    "    pyplot.plot(recall, precision, marker='.')\n",
    "    # show the plot\n",
    "    pyplot.show()\n",
    "\n",
    "\n"
   ]
  },
  {
   "cell_type": "code",
   "execution_count": null,
   "metadata": {},
   "outputs": [],
   "source": [
    "# ######################## logistic regression algorithm #######################\n",
    "\n",
    "logmodel = LogisticRegression(C=1.0, class_weight=None, dual=False, fit_intercept=True,\n",
    "           intercept_scaling=1, max_iter=100, multi_class='ovr', n_jobs=1,\n",
    "           penalty='l2', random_state=None, solver= 'lbfgs', tol=0.0001,\n",
    "           verbose=0, warm_start=False)\n",
    "\n",
    "logmodel.fit(X_train,y_train)\n",
    "y_pred = logmodel.predict(X_test)\n",
    "print (\"Predicted Value:\", y_pred)\n",
    "\n",
    "# # summarize the fit of the model\n",
    "# print(classification_report(y_test,y_pred))\n",
    "# print(\"confusion matrix\")\n",
    "# print(confusion_matrix(y_test,y_pred))\n",
    "# print(\"Accuracy:\",metrics.accuracy_score(y_test, y_pred))"
   ]
  },
  {
   "cell_type": "code",
   "execution_count": 1,
   "metadata": {},
   "outputs": [
    {
     "ename": "NameError",
     "evalue": "name 'SVC' is not defined",
     "output_type": "error",
     "traceback": [
      "\u001b[1;31m---------------------------------------------------------------------------\u001b[0m",
      "\u001b[1;31mNameError\u001b[0m                                 Traceback (most recent call last)",
      "\u001b[1;32m<ipython-input-1-7f1e987ced70>\u001b[0m in \u001b[0;36m<module>\u001b[1;34m\u001b[0m\n\u001b[0;32m      2\u001b[0m \u001b[1;31m################################################# linear kernel\u001b[0m\u001b[1;33m\u001b[0m\u001b[1;33m\u001b[0m\u001b[1;33m\u001b[0m\u001b[0m\n\u001b[0;32m      3\u001b[0m \u001b[1;33m\u001b[0m\u001b[0m\n\u001b[1;32m----> 4\u001b[1;33m \u001b[0msvc_model\u001b[0m \u001b[1;33m=\u001b[0m \u001b[0mSVC\u001b[0m\u001b[1;33m(\u001b[0m\u001b[0mkernel\u001b[0m\u001b[1;33m=\u001b[0m\u001b[1;34m'linear'\u001b[0m\u001b[1;33m)\u001b[0m\u001b[1;33m.\u001b[0m\u001b[0mfit\u001b[0m\u001b[1;33m(\u001b[0m\u001b[0mX_train\u001b[0m\u001b[1;33m,\u001b[0m \u001b[0my_train\u001b[0m\u001b[1;33m)\u001b[0m\u001b[1;33m\u001b[0m\u001b[1;33m\u001b[0m\u001b[0m\n\u001b[0m\u001b[0;32m      5\u001b[0m \u001b[0msvc_model\u001b[0m\u001b[1;33m.\u001b[0m\u001b[0mfit\u001b[0m\u001b[1;33m(\u001b[0m\u001b[0mX_train\u001b[0m\u001b[1;33m,\u001b[0m \u001b[0my_train\u001b[0m\u001b[1;33m)\u001b[0m\u001b[1;33m\u001b[0m\u001b[1;33m\u001b[0m\u001b[0m\n\u001b[0;32m      6\u001b[0m \u001b[0my_pred\u001b[0m \u001b[1;33m=\u001b[0m \u001b[0msvc_model\u001b[0m\u001b[1;33m.\u001b[0m\u001b[0mpredict\u001b[0m\u001b[1;33m(\u001b[0m\u001b[0mX_test\u001b[0m\u001b[1;33m)\u001b[0m\u001b[1;33m\u001b[0m\u001b[1;33m\u001b[0m\u001b[0m\n",
      "\u001b[1;31mNameError\u001b[0m: name 'SVC' is not defined"
     ]
    }
   ],
   "source": [
    "######################## svm algorithm #######################\n",
    "################################################# linear kernel\n",
    "\n",
    "svc_model = SVC(kernel='linear').fit(X_train, y_train)\n",
    "svc_model.fit(X_train, y_train)\n",
    "y_pred = svc_model.predict(X_test)\n",
    "# print (\"Predicted Value:\", y_pred)\n",
    "print(\"confusion matrix\")\n",
    "print(confusion_matrix(y_test,y_pred))\n",
    "\n",
    "# # predict probabilities\n",
    "# probs = svc_model.predict_proba(X_test)\n",
    "# probs = probs[:, 1]\n",
    "\n",
    "# # calculate AUC\n",
    "# auc = roc_auc_score(y_test, probs)\n",
    "# print('AUC: %.3f' % auc)\n",
    "# # calculate roc curve\n",
    "# fpr, tpr, thresholds = roc_curve(y_test, probs)\n",
    "# # plot no skill\n",
    "# pyplot.plot([0, 1], [0, 1], linestyle='--')\n",
    "# # plot the roc curve for the model\n",
    "# pyplot.plot(fpr, tpr, marker='.')\n",
    "# # show the plot\n",
    "# pyplot.show()\n",
    "\n",
    "####predict probabilities\n",
    "probs = svc_model.predict_proba(X_test)\n",
    "probs = probs[:, 1]\n",
    "\n",
    "# calculate precision-recall curve\n",
    "precision, recall, thresholds = precision_recall_curve(y_test, probs)\n",
    "# calculate F1 score\n",
    "f1 = f1_score(y_test, y_pred)\n",
    "# calculate precision-recall AUC\n",
    "#     auc = auc(recall, precision)\n",
    "# calculate average precision score\n",
    "ap = average_precision_score(y_test, probs)\n",
    "#     print('f1=%.3f auc=%.3f ap=%.3f' % (f1, auc, ap))\n",
    "# plot no skill\n",
    "pyplot.plot([0, 1], [0.1, 0.1], linestyle='--')\n",
    "# plot the precision-recall curve for the model\n",
    "pyplot.plot(recall, precision, marker='.')\n",
    "# show the plot\n",
    "pyplot.show()\n",
    "\n",
    "\n",
    "\n",
    "\n",
    "\n",
    "################################################## rbf kernel\n",
    "svc_model = SVC(kernel='rbf').fit(X_train, y_train)\n",
    "svc_model.fit(X_train, y_train)\n",
    "y_pred = svc_model.predict(X_test)\n",
    "# print (\"Predicted Value:\", y_pred)\n",
    "print(\"confusion matrix\")\n",
    "print(confusion_matrix(y_test,y_pred))\n",
    "\n",
    "# # predict probabilities\n",
    "# probs = svc_model.predict_proba(X_test)\n",
    "# probs = probs[:, 1]\n",
    "\n",
    "# # calculate AUC\n",
    "# auc = roc_auc_score(y_test, probs)\n",
    "# print('AUC: %.3f' % auc)\n",
    "# # calculate roc curve\n",
    "# fpr, tpr, thresholds = roc_curve(y_test, probs)\n",
    "# # plot no skill\n",
    "# pyplot.plot([0, 1], [0, 1], linestyle='--')\n",
    "# # plot the roc curve for the model\n",
    "# pyplot.plot(fpr, tpr, marker='.')\n",
    "# # show the plot\n",
    "# pyplot.show()\n",
    "\n",
    "\n",
    "####predict probabilities\n",
    "probs = svc_model.predict_proba(X_test)\n",
    "probs = probs[:, 1]\n",
    "\n",
    "# calculate precision-recall curve\n",
    "precision, recall, thresholds = precision_recall_curve(y_test, probs)\n",
    "# calculate F1 score\n",
    "f1 = f1_score(y_test, y_pred)\n",
    "# calculate precision-recall AUC\n",
    "#     auc = auc(recall, precision)\n",
    "# calculate average precision score\n",
    "ap = average_precision_score(y_test, probs)\n",
    "#     print('f1=%.3f auc=%.3f ap=%.3f' % (f1, auc, ap))\n",
    "# plot no skill\n",
    "pyplot.plot([0, 1], [0.1, 0.1], linestyle='--')\n",
    "# plot the precision-recall curve for the model\n",
    "pyplot.plot(recall, precision, marker='.')\n",
    "# show the plot\n",
    "pyplot.show()\n",
    "\n",
    "\n",
    "\n",
    "\n",
    "\n",
    "#########################################  poly kernel\n",
    "# svc_model = SVC(kernel='poly').fit(X_train, y_train)\n",
    "# svc_model.fit(X_train, y_train)\n",
    "# y_pred = svc_model.predict(X_test)\n",
    "# # print (\"Predicted Value:\", y_pred)\n",
    "# print(\"confusion matrix\")\n",
    "# print(confusion_matrix(y_test,y_pred))\n",
    "\n",
    "# # predict probabilities\n",
    "# probs = svc_model.predict_proba(X_test)\n",
    "# probs = probs[:, 1]\n",
    "\n",
    "# # calculate AUC\n",
    "# auc = roc_auc_score(y_test, probs)\n",
    "# print('AUC: %.3f' % auc)\n",
    "# # calculate roc curve\n",
    "# fpr, tpr, thresholds = roc_curve(y_test, probs)\n",
    "# # plot no skill\n",
    "# pyplot.plot([0, 1], [0, 1], linestyle='--')\n",
    "# # plot the roc curve for the model\n",
    "# pyplot.plot(fpr, tpr, marker='.')\n",
    "# # show the plot\n",
    "# pyplot.show()\n",
    "\n",
    "\n",
    "\n",
    "####predict probabilities\n",
    "probs = svc_model.predict_proba(X_test)\n",
    "probs = probs[:, 1]\n",
    "\n",
    "# calculate precision-recall curve\n",
    "precision, recall, thresholds = precision_recall_curve(y_test, probs)\n",
    "# calculate F1 score\n",
    "f1 = f1_score(y_test, y_pred)\n",
    "# calculate precision-recall AUC\n",
    "#     auc = auc(recall, precision)\n",
    "# calculate average precision score\n",
    "ap = average_precision_score(y_test, probs)\n",
    "#     print('f1=%.3f auc=%.3f ap=%.3f' % (f1, auc, ap))\n",
    "# plot no skill\n",
    "pyplot.plot([0, 1], [0.1, 0.1], linestyle='--')\n",
    "# plot the precision-recall curve for the model\n",
    "pyplot.plot(recall, precision, marker='.')\n",
    "# show the plot\n",
    "pyplot.show()\n"
   ]
  },
  {
   "cell_type": "code",
   "execution_count": null,
   "metadata": {},
   "outputs": [],
   "source": []
  }
 ],
 "metadata": {
  "kernelspec": {
   "display_name": "Python 3",
   "language": "python",
   "name": "python3"
  },
  "language_info": {
   "codemirror_mode": {
    "name": "ipython",
    "version": 3
   },
   "file_extension": ".py",
   "mimetype": "text/x-python",
   "name": "python",
   "nbconvert_exporter": "python",
   "pygments_lexer": "ipython3",
   "version": "3.7.3"
  }
 },
 "nbformat": 4,
 "nbformat_minor": 2
}
